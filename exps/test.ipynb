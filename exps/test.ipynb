{
 "cells": [
  {
   "cell_type": "code",
   "execution_count": null,
   "metadata": {},
   "outputs": [
    {
     "ename": "",
     "evalue": "",
     "output_type": "error",
     "traceback": [
      "\u001b[1;31mRunning cells with 'NLU' requires ipykernel package.\n",
      "\u001b[1;31mRun the following command to install 'ipykernel' into the Python environment. \n",
      "\u001b[1;31mCommand: 'conda install -n NLU ipykernel --update-deps --force-reinstall'"
     ]
    }
   ],
   "source": [
    "!pip install phonlp"
   ]
  },
  {
   "cell_type": "code",
   "execution_count": null,
   "metadata": {},
   "outputs": [],
   "source": [
    "import phonlp\n",
    "\n",
    "# Automatically download the pre-trained PhoNLP model for Vietnamese\n",
    "# and save it in a local machine folder\n",
    "phonlp.download(save_dir='/home/huypn10/adaptation/checkpoints')\n",
    "\n",
    "# Load the pre-trained PhoNLP model for Vietnamese\n",
    "model = phonlp.load(save_dir='/home/huypn10/adaptation/checkpoints')\n",
    "\n",
    "# Annotate a word-segmented sentence\n",
    "model.print_out(model.annotate(text=\"\"Hôm nay tôi bảo vệ đồ án chuyên ngành.\"\"))"
   ]
  }
 ],
 "metadata": {
  "kernelspec": {
   "display_name": "NLU",
   "language": "python",
   "name": "python3"
  },
  "language_info": {
   "codemirror_mode": {
    "name": "ipython",
    "version": 3
   },
   "file_extension": ".py",
   "mimetype": "text/x-python",
   "name": "python",
   "nbconvert_exporter": "python",
   "pygments_lexer": "ipython3",
   "version": "3.7.10 (default, Jun  4 2021, 14:48:32) \n[GCC 7.5.0]"
  },
  "orig_nbformat": 4,
  "vscode": {
   "interpreter": {
    "hash": "a4b90591469ae19863bcacf9c71b9fd6edc967943d6f22d62dfd8d3d53e74493"
   }
  }
 },
 "nbformat": 4,
 "nbformat_minor": 2
}
