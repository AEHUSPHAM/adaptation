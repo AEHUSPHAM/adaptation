{
 "cells": [
  {
   "cell_type": "code",
   "execution_count": 1,
   "metadata": {},
   "outputs": [
    {
     "name": "stderr",
     "output_type": "stream",
     "text": [
      "/home/huypn10/miniconda3/envs/adaptation/lib/python3.8/site-packages/tqdm/auto.py:22: TqdmWarning: IProgress not found. Please update jupyter and ipywidgets. See https://ipywidgets.readthedocs.io/en/stable/user_install.html\n",
      "  from .autonotebook import tqdm as notebook_tqdm\n"
     ]
    }
   ],
   "source": [
    "import torch\n",
    "import transformers"
   ]
  },
  {
   "cell_type": "code",
   "execution_count": null,
   "metadata": {},
   "outputs": [],
   "source": [
    "from model.adapter.petl_roberta_modeling  import PetlRobertaForSequenceClassification\n",
    "model = PetlRobertaForSequenceClassification.from_pretrained(\"/home/huypn10/adaptation/checkpoints/glue/sst2/20230202Feb/glue.sst2.am_adapter.ao_sequential.unfrz_ef_.ne10.warm0.06.wd0.1.seed4..m_0.2.beta2_0.7.s_0.1\")"
   ]
  },
  {
   "cell_type": "code",
   "execution_count": 54,
   "metadata": {},
   "outputs": [],
   "source": [
    "def _make_causal_mask(input_ids_shape: torch.Size, dtype: torch.dtype, past_key_values_length: int = 0):\n",
    "    bsz, tgt_len = input_ids_shape\n",
    "    mask = torch.full((tgt_len, tgt_len), torch.tensor(torch.finfo(dtype).min))\n",
    "    mask_cond = torch.arange(mask.size(-1))\n",
    "    mask.masked_fill_(mask_cond < (mask_cond + 1).view(mask.size(-1), 1), 0)\n",
    "    mask = mask.to(dtype)\n",
    "\n",
    "    if past_key_values_length > 0:\n",
    "        mask = torch.cat([torch.zeros(tgt_len, past_key_values_length, dtype=dtype), mask], dim=-1)\n",
    "    return mask"
   ]
  },
  {
   "cell_type": "code",
   "execution_count": 5,
   "metadata": {},
   "outputs": [],
   "source": [
    "def momentum_matrix(n, m, s, opt):   \n",
    "    mask_matrix = torch.zeros([n,n], dtype=torch.float32, requires_grad=False)\n",
    "    if opt == \"origin\" or opt == \"test\":\n",
    "        for i in range(n):\n",
    "            mask_matrix[i,i] = 1\n",
    "            for j in range(1,i+1):\n",
    "                mask_matrix[i,i-j] = mask_matrix[i,i-j+1] * m\n",
    "                # mask_matrix[i,i-j] = (mask_matrix[i,i-j+1] - 0.1) if (mask_matrix[i,i-j+1] - 0.1) > 0 else 0|\n",
    "    elif opt == \"bidirectional\":\n",
    "        for i in range(n):\n",
    "            mask_matrix[i,i] = 1\n",
    "            for j in range(1,i+1):\n",
    "                mask_matrix[i,i-j] = mask_matrix[i,i-j+1] * m\n",
    "                # mask_matrix[i,i-j] = (mask_matrix[i,i-j+1] - 0.1) if (mask_matrix[i,i-j+1] - 0.1) > 0 else 0\n",
    "            for j in range(i+1,n):\n",
    "                mask_matrix[i,j] = mask_matrix[i,j-1] * m\n",
    "    elif opt== \"threshold\" or opt == \"adam\":\n",
    "        for i in range(n):\n",
    "            mask_matrix[i,i] = 1\n",
    "            for j in range(1,min(10,i+1)):\n",
    "                mask_matrix[i,i-j] = mask_matrix[i,i-j+1] * m\n",
    "    elif opt== \"nesterov\":\n",
    "        for i in range(n):\n",
    "            m=i/(i+3)\n",
    "            mask_matrix[i,i] = 1\n",
    "            for j in range(1,i+1):\n",
    "                mask_matrix[i,i-j] = mask_matrix[i,i-j+1] * m\n",
    "    else: return None\n",
    "\n",
    "    if opt != \"adam\":\n",
    "        mask_matrix = s*mask_matrix\n",
    "\n",
    "    return mask_matrix"
   ]
  },
  {
   "cell_type": "code",
   "execution_count": 6,
   "metadata": {},
   "outputs": [
    {
     "data": {
      "text/plain": [
       "tensor([[0.1000, 0.0500, 0.0250, 0.0125, 0.0063],\n",
       "        [0.0500, 0.1000, 0.0500, 0.0250, 0.0125],\n",
       "        [0.0250, 0.0500, 0.1000, 0.0500, 0.0250],\n",
       "        [0.0125, 0.0250, 0.0500, 0.1000, 0.0500],\n",
       "        [0.0063, 0.0125, 0.0250, 0.0500, 0.1000]])"
      ]
     },
     "execution_count": 6,
     "metadata": {},
     "output_type": "execute_result"
    }
   ],
   "source": [
    "momentum_matrix(5,0.5,0.1,\"bidirectional\")"
   ]
  },
  {
   "cell_type": "code",
   "execution_count": null,
   "metadata": {},
   "outputs": [],
   "source": []
  }
 ],
 "metadata": {
  "kernelspec": {
   "display_name": "adaptation",
   "language": "python",
   "name": "python3"
  },
  "language_info": {
   "codemirror_mode": {
    "name": "ipython",
    "version": 3
   },
   "file_extension": ".py",
   "mimetype": "text/x-python",
   "name": "python",
   "nbconvert_exporter": "python",
   "pygments_lexer": "ipython3",
   "version": "3.8.15 (default, Nov 24 2022, 15:19:38) \n[GCC 11.2.0]"
  },
  "orig_nbformat": 4,
  "vscode": {
   "interpreter": {
    "hash": "f29ea1df0576f3f582a1c0e4825ae315ddb847bfe9d46b1d7209490e1e91f1ed"
   }
  }
 },
 "nbformat": 4,
 "nbformat_minor": 2
}
